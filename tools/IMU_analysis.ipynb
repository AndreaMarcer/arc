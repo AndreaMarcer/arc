{
 "cells": [
  {
   "cell_type": "markdown",
   "metadata": {},
   "source": [
    "# Import"
   ]
  },
  {
   "cell_type": "code",
   "execution_count": null,
   "metadata": {},
   "outputs": [],
   "source": [
    "import pandas as pd\n",
    "import matplotlib.pyplot as plt\n",
    "import numpy as np\n",
    "\n",
    "from scipy.signal import savgol_filter"
   ]
  },
  {
   "cell_type": "markdown",
   "metadata": {},
   "source": [
    "# Read data"
   ]
  },
  {
   "cell_type": "code",
   "execution_count": null,
   "metadata": {},
   "outputs": [],
   "source": [
    "# Read the CSV file\n",
    "df = pd.read_csv(\n",
    "    \"/home/m3rc7pi/workspace/arc/log/20240317_free_fall.csv\", \n",
    "    header=None, \n",
    "    names=[\"timestamp\", \"acc_x\", \"acc_y\", \"acc_z\", \"gyro_x\", \"gyro_y\", \"gyro_z\"],\n",
    "    skiprows=0,\n",
    ")\n",
    "df['timestamp'] = df['timestamp'] / 1e6"
   ]
  },
  {
   "cell_type": "code",
   "execution_count": null,
   "metadata": {},
   "outputs": [],
   "source": [
    "\n",
    "df[\"delta_time\"] = df['timestamp'].diff() * 1000\n",
    "Fs = 1 / (df[\"delta_time\"][2:].mean()/1000)  # Sampling frequency (Hz)\n",
    "\n",
    "plt.figure(figsize=(12, 3))\n",
    "plt.plot(df['timestamp'][2:], df[\"delta_time\"][2:])  # Plot only positive frequencies\n",
    "plt.xlabel('Time (s)')\n",
    "plt.ylabel('dt [ms]')\n",
    "plt.title('Spectral Analysis of acc_x')\n",
    "plt.grid(True)\n",
    "plt.show()\n",
    "\n",
    "print(df[\"delta_time\"][2:].describe())\n",
    "print(\"\\nAverage sampling frequency:\", Fs, \"[Hz]\")"
   ]
  },
  {
   "cell_type": "markdown",
   "metadata": {},
   "source": [
    "# Accelerometer"
   ]
  },
  {
   "cell_type": "code",
   "execution_count": null,
   "metadata": {},
   "outputs": [],
   "source": [
    "# Compute statistics for acceleration data\n",
    "df['acc_magnitude'] = np.sqrt(df['acc_x']**2 + df['acc_y']**2 + df['acc_z']**2)\n",
    "\n",
    "print(\"\\nAcceleration Statistics:\")\n",
    "print(df[[\"acc_x\", \"acc_y\", \"acc_z\", 'acc_magnitude']].describe())"
   ]
  },
  {
   "cell_type": "code",
   "execution_count": null,
   "metadata": {},
   "outputs": [],
   "source": [
    "# Plot accelerometer data\n",
    "fig, axs = plt.subplots(2, 1, figsize=(12, 6))\n",
    "axs[0].plot(df['timestamp'], df['acc_x'], label='acc_x')\n",
    "axs[0].plot(df['timestamp'], df['acc_y'], label='acc_y')\n",
    "axs[0].plot(df['timestamp'], df['acc_z'], label='acc_z')\n",
    "axs[0].set_xlabel('Time [s]')\n",
    "axs[0].set_ylabel('Acceleration [m/s]')\n",
    "axs[0].set_title('Accelerometer Data')\n",
    "axs[0].grid(True)\n",
    "axs[0].legend()\n",
    "\n",
    "axs[1].plot(df['timestamp'], df['acc_magnitude'], label='diff')\n",
    "axs[1].set_xlabel('Time [s]')\n",
    "axs[1].set_ylabel('Acceleration [g]')\n",
    "axs[1].set_title('Magnitude')\n",
    "axs[1].grid(True)\n",
    "axs[1].legend()\n",
    "plt.tight_layout()\n",
    "plt.show()"
   ]
  },
  {
   "cell_type": "code",
   "execution_count": null,
   "metadata": {},
   "outputs": [],
   "source": [
    "df['acc_x_filtered'] = savgol_filter(df['acc_x'], window_length=51, polyorder=3)\n",
    "\n",
    "# Compute the difference between acc_x and acc_x_filtered\n",
    "df['acc_x_noise'] = df['acc_x'] - df['acc_x_filtered']\n",
    "\n",
    "# Perform FFT on acc_x\n",
    "acc_x_fft = np.fft.fft(df['acc_x'])\n",
    "freq = np.fft.fftfreq(len(df['acc_x']), d=1/Fs)  # Frequency bins\n",
    "\n",
    "# Perform FFT on acc_x_filtered\n",
    "acc_x_filtered_fft = np.fft.fft(df['acc_x_filtered'])\n",
    "freq_filtered = np.fft.fftfreq(len(df['acc_x_filtered']), d=1/Fs)  # Frequency bins\n",
    "\n",
    "fig, axs = plt.subplots(4, 1, figsize=(12, 12))\n",
    "\n",
    "axs[0].plot(df['timestamp'], df['acc_x'], label='acc_x')\n",
    "axs[0].plot(df['timestamp'], df['acc_x_filtered'], label='acc_x filtered')\n",
    "axs[0].set_xlabel('Time [s]')\n",
    "axs[0].set_ylabel('Acceleration [m/s]')\n",
    "axs[0].set_title('Filtered X Accelerometer')\n",
    "axs[0].legend()\n",
    "axs[0].grid()\n",
    "\n",
    "axs[1].plot(df['timestamp'], df['acc_x_noise'], label='diff')\n",
    "axs[1].set_xlabel('Time [s]')\n",
    "axs[1].set_ylabel('[m/s]')\n",
    "axs[1].set_title('Noise')\n",
    "axs[1].set_ylim(-0.5, 0.5)\n",
    "axs[1].legend()\n",
    "axs[1].grid()\n",
    "\n",
    "axs[2].plot(freq[0:len(freq)//2], np.abs(acc_x_fft[0:len(freq)//2]))  # Plot only positive frequencies\n",
    "axs[2].set_xlabel('Frequency (Hz)')\n",
    "axs[2].set_ylabel('Amplitude')\n",
    "axs[2].set_title('Spectral Analysis of acc_x')\n",
    "axs[2].grid()\n",
    "\n",
    "axs[3].plot(freq_filtered[0:len(freq_filtered)//2], np.abs(acc_x_filtered_fft[0:len(freq_filtered)//2]))\n",
    "axs[3].set_xlabel('Frequency (Hz)')\n",
    "axs[3].set_ylabel('Amplitude')\n",
    "axs[3].set_title('Spectral Analysis of acc_x_filtered')\n",
    "axs[3].grid()\n",
    "\n",
    "plt.tight_layout()\n",
    "plt.show()\n",
    "\n",
    "print(df[[\"acc_x\", \"acc_x_filtered\", \"acc_x_noise\"]].describe())"
   ]
  },
  {
   "cell_type": "code",
   "execution_count": null,
   "metadata": {},
   "outputs": [],
   "source": [
    "df['acc_y_filtered'] = savgol_filter(df['acc_y'], window_length=51, polyorder=3)\n",
    "\n",
    "# Compute the difference between acc_y and acc_y_filtered\n",
    "df['acc_y_noise'] = df['acc_y'] - df['acc_y_filtered']\n",
    "\n",
    "fig, axs = plt.subplots(2, 1, figsize=(12, 6))\n",
    "axs[0].plot(df['timestamp'], df['acc_y'], label='acc_y')\n",
    "axs[0].plot(df['timestamp'], df['acc_y_filtered'], label='acc_y filtered')\n",
    "axs[0].set_xlabel('Time [s]')\n",
    "axs[0].set_ylabel('Acceleration [m/s]')\n",
    "axs[0].set_title('Filtered Y Accelerometer')\n",
    "axs[0].legend()\n",
    "axs[0].grid()\n",
    "\n",
    "axs[1].plot(df['timestamp'], df['acc_y_noise'], label='diff')\n",
    "axs[1].set_xlabel('Time [s]')\n",
    "axs[1].set_ylabel('[m/s]')\n",
    "axs[1].set_title('Noise')\n",
    "axs[1].set_ylim(-0.5, 0.5)\n",
    "axs[1].legend()\n",
    "axs[1].grid()\n",
    "\n",
    "plt.tight_layout()\n",
    "plt.show()\n",
    "\n",
    "print(df[[\"acc_y\", \"acc_y_filtered\", \"acc_y_noise\"]].describe())"
   ]
  },
  {
   "cell_type": "code",
   "execution_count": null,
   "metadata": {},
   "outputs": [],
   "source": [
    "df['acc_z_filtered'] = savgol_filter(df['acc_z'], window_length=51, polyorder=3)\n",
    "\n",
    "# Compute the difference between acc_z and acc_z_filtered\n",
    "df['acc_z_noise'] = df['acc_z'] - df['acc_z_filtered']\n",
    "\n",
    "fig, axs = plt.subplots(2, 1, figsize=(12, 6))\n",
    "axs[0].plot(df['timestamp'], df['acc_z'], label='acc_z')\n",
    "axs[0].plot(df['timestamp'], df['acc_z_filtered'], label='acc_z filtered')\n",
    "axs[0].set_xlabel('Time [s]')\n",
    "axs[0].set_ylabel('Acceleration [m/s]')\n",
    "axs[0].set_title('Filtered Z Accelerometer')\n",
    "axs[0].legend()\n",
    "axs[0].grid()\n",
    "\n",
    "axs[1].plot(df['timestamp'], df['acc_z_noise'], label='diff')\n",
    "axs[1].set_xlabel('Time [s]')\n",
    "axs[1].set_ylabel('[m/s]')\n",
    "axs[1].set_title('Noise')\n",
    "axs[1].set_ylim(-0.5, 0.5)\n",
    "axs[1].legend()\n",
    "axs[1].grid()\n",
    "\n",
    "plt.tight_layout()\n",
    "plt.show()\n",
    "\n",
    "print(df[[\"acc_z\", \"acc_z_filtered\", \"acc_z_noise\"]].describe())"
   ]
  },
  {
   "cell_type": "markdown",
   "metadata": {},
   "source": [
    "# Gyroscope"
   ]
  },
  {
   "cell_type": "code",
   "execution_count": null,
   "metadata": {},
   "outputs": [],
   "source": [
    "# Compute statistics for gyro data\n",
    "gyro_stats = df[[\"gyro_x\", \"gyro_y\", \"gyro_z\"]].describe()\n",
    "print(\"\\nGyro Statistics:\")\n",
    "print(gyro_stats)"
   ]
  },
  {
   "cell_type": "code",
   "execution_count": null,
   "metadata": {},
   "outputs": [],
   "source": [
    "# Plot gyroscope data\n",
    "plt.figure(figsize=(12, 3))\n",
    "plt.plot(df['timestamp'], df['gyro_x'], label='gyro_x')\n",
    "plt.plot(df['timestamp'], df['gyro_y'], label='gyro_y')\n",
    "plt.plot(df['timestamp'], df['gyro_z'], label='gyro_z')\n",
    "plt.xlabel('Timestamp')\n",
    "plt.ylabel('Angular Velocity')\n",
    "plt.title('Gyroscope Data')\n",
    "plt.legend()\n",
    "plt.grid()\n",
    "plt.tight_layout()\n",
    "plt.show()"
   ]
  },
  {
   "cell_type": "code",
   "execution_count": null,
   "metadata": {},
   "outputs": [],
   "source": [
    "df['gyro_x_filtered'] = savgol_filter(df['gyro_x'], window_length=51, polyorder=3)\n",
    "\n",
    "# Compute the difference between gyro_x and gyro_x_filtered\n",
    "df['gyro_x_noise'] = df['gyro_x'] - df['gyro_x_filtered']\n",
    "\n",
    "fig, axs = plt.subplots(2, 1, figsize=(12, 6))\n",
    "axs[0].plot(df['timestamp'], df['gyro_x'], label='gyro_x')\n",
    "axs[0].plot(df['timestamp'], df['gyro_x_filtered'], label='gyro_x filtered')\n",
    "axs[0].set_xlabel('Time [s]')\n",
    "axs[0].set_ylabel('Angular Velocity [rad/s]')\n",
    "axs[0].set_title('Filtered X Angular Velocity')\n",
    "axs[0].grid(True)\n",
    "axs[0].legend()\n",
    "\n",
    "axs[1].plot(df['timestamp'], df['gyro_x_noise'], label='diff')\n",
    "axs[1].set_xlabel('Time [s]')\n",
    "axs[1].set_ylabel('[rad/s]')\n",
    "axs[1].set_title('Noise')\n",
    "axs[1].set_ylim(-0.05, 0.05)\n",
    "axs[1].grid(True)\n",
    "axs[1].legend()\n",
    "\n",
    "plt.tight_layout()\n",
    "plt.show()\n",
    "\n",
    "print(df[[\"gyro_x\", \"gyro_x_filtered\", \"gyro_x_noise\"]].describe())"
   ]
  },
  {
   "cell_type": "code",
   "execution_count": null,
   "metadata": {},
   "outputs": [],
   "source": [
    "df['gyro_y_filtered'] = savgol_filter(df['gyro_y'], window_length=51, polyorder=3)\n",
    "\n",
    "# Compute the difference between gyro_y and gyro_y_filtered\n",
    "df['gyro_y_noise'] = df['gyro_y'] - df['gyro_y_filtered']\n",
    "\n",
    "fig, axs = plt.subplots(2, 1, figsize=(12, 6))\n",
    "axs[0].plot(df['timestamp'], df['gyro_y'], label='gyro_y')\n",
    "axs[0].plot(df['timestamp'], df['gyro_y_filtered'], label='gyro_y filtered')\n",
    "axs[0].set_xlabel('Time [s]')\n",
    "axs[0].set_ylabel('Angular Velocity [rad/s]')\n",
    "axs[0].set_title('Filtered Y Angular Velocity')\n",
    "axs[0].legend()\n",
    "axs[0].grid(True)\n",
    "\n",
    "axs[1].plot(df['timestamp'], df['gyro_y_noise'], label='diff')\n",
    "axs[1].set_xlabel('Time [s]')\n",
    "axs[1].set_ylabel('[rad/s]')\n",
    "axs[1].set_title('Noise')\n",
    "axs[1].set_ylim(-0.05, 0.05)\n",
    "axs[1].legend()\n",
    "axs[1].grid(True)\n",
    "\n",
    "plt.tight_layout()\n",
    "plt.show()\n",
    "\n",
    "print(df[[\"gyro_y\", \"gyro_y_filtered\", \"gyro_y_noise\"]].describe())"
   ]
  },
  {
   "cell_type": "code",
   "execution_count": null,
   "metadata": {},
   "outputs": [],
   "source": [
    "df['gyro_z_filtered'] = savgol_filter(df['gyro_z'], window_length=51, polyorder=3)\n",
    "\n",
    "# Compute the difference between gyro_z and gyro_z_filtered\n",
    "df['gyro_z_noise'] = df['gyro_z'] - df['gyro_z_filtered']\n",
    "\n",
    "fig, axs = plt.subplots(2, 1, figsize=(12, 6))\n",
    "axs[0].plot(df['timestamp'], df['gyro_z'], label='gyro_z')\n",
    "axs[0].plot(df['timestamp'], df['gyro_z_filtered'], label='gyro_z filtered')\n",
    "axs[0].set_xlabel('Time [s]')\n",
    "axs[0].set_ylabel('Angular Velocity [rad/s]')\n",
    "axs[0].set_title('Filtered Y Angular Velocity')\n",
    "axs[0].legend()\n",
    "axs[0].grid(True)\n",
    "\n",
    "axs[1].plot(df['timestamp'], df['gyro_z_noise'], label='diff')\n",
    "axs[1].set_xlabel('Time [s]')\n",
    "axs[1].set_ylabel('[rad/s]')\n",
    "axs[1].set_title('Noise')\n",
    "axs[1].set_ylim(-0.05, 0.05)\n",
    "axs[1].legend()\n",
    "axs[1].grid(True)\n",
    "\n",
    "plt.tight_layout()\n",
    "plt.show()\n",
    "\n",
    "print(df[[\"gyro_z\", \"gyro_z_filtered\", \"gyro_z_noise\"]].describe())"
   ]
  },
  {
   "cell_type": "code",
   "execution_count": null,
   "metadata": {},
   "outputs": [],
   "source": []
  }
 ],
 "metadata": {
  "kernelspec": {
   "display_name": "Python 3",
   "language": "python",
   "name": "python3"
  },
  "language_info": {
   "codemirror_mode": {
    "name": "ipython",
    "version": 3
   },
   "file_extension": ".py",
   "mimetype": "text/x-python",
   "name": "python",
   "nbconvert_exporter": "python",
   "pygments_lexer": "ipython3",
   "version": "3.11.2"
  }
 },
 "nbformat": 4,
 "nbformat_minor": 2
}
