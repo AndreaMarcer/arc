{
 "cells": [
  {
   "cell_type": "markdown",
   "metadata": {},
   "source": [
    "# Import"
   ]
  },
  {
   "cell_type": "code",
   "execution_count": null,
   "metadata": {},
   "outputs": [],
   "source": [
    "import pandas as pd\n",
    "import matplotlib.pyplot as plt\n",
    "import numpy as np\n",
    "\n",
    "from scipy.optimize import least_squares"
   ]
  },
  {
   "cell_type": "markdown",
   "metadata": {},
   "source": [
    "# Read data"
   ]
  },
  {
   "cell_type": "code",
   "execution_count": null,
   "metadata": {},
   "outputs": [],
   "source": [
    "# Read the CSV file\n",
    "df = pd.read_csv(\n",
    "    \"/home/m3rc7pi/workspace/arc/log/20240318_calib.csv\", \n",
    "    header=None, \n",
    "    names=[\"timestamp\", \"acc_x\", \"acc_y\", \"acc_z\", \"gyro_x\", \"gyro_y\", \"gyro_z\"],\n",
    "    skiprows=0\n",
    ")\n",
    "df['timestamp'] = df['timestamp'] / 1e6"
   ]
  },
  {
   "cell_type": "markdown",
   "metadata": {},
   "source": [
    "# Accelerometer"
   ]
  },
  {
   "cell_type": "code",
   "execution_count": null,
   "metadata": {},
   "outputs": [],
   "source": [
    "# Compute statistics for acceleration data\n",
    "df['acc_magnitude'] = np.sqrt(df['acc_x']**2 + df['acc_y']**2 + df['acc_z']**2)\n",
    "\n",
    "print(\"\\nAcceleration Statistics:\")\n",
    "print(df[[\"acc_x\", \"acc_y\", \"acc_z\", 'acc_magnitude']].describe())"
   ]
  },
  {
   "cell_type": "code",
   "execution_count": null,
   "metadata": {},
   "outputs": [],
   "source": [
    "# Plot accelerometer data\n",
    "fig, axs = plt.subplots(2, 1, figsize=(12, 6))\n",
    "axs[0].plot(df['timestamp'], df['acc_x'], label='acc_x')\n",
    "axs[0].plot(df['timestamp'], df['acc_y'], label='acc_y')\n",
    "axs[0].plot(df['timestamp'], df['acc_z'], label='acc_z')\n",
    "axs[0].set_xlabel('Time [s]')\n",
    "axs[0].set_ylabel('Acceleration [m/s]')\n",
    "axs[0].set_title('Accelerometer Data')\n",
    "axs[0].grid(True)\n",
    "axs[0].legend()\n",
    "\n",
    "axs[1].plot(df['timestamp'], df['acc_magnitude'], label='diff')\n",
    "axs[1].set_xlabel('Time [s]')\n",
    "axs[1].set_ylabel('Acceleration [g]')\n",
    "axs[1].set_title('Magnitude')\n",
    "axs[1].grid(True)\n",
    "axs[1].legend()\n",
    "plt.tight_layout()\n",
    "plt.show()"
   ]
  },
  {
   "cell_type": "markdown",
   "metadata": {},
   "source": [
    "## Data"
   ]
  },
  {
   "cell_type": "code",
   "execution_count": null,
   "metadata": {},
   "outputs": [],
   "source": [
    "acc_x = np.concatenate(( df['acc_x'][0:70],df['acc_x'][130:190],df['acc_x'][230:270],df['acc_x'][330:360],df['acc_x'][370:435],df['acc_x'][490:560],df['acc_x'][700:750],df['acc_x'][780:825],df['acc_x'][840:880],df['acc_x'][920:1000],df['acc_x'][1030:1070], df['acc_x'][1130:]))\n",
    "acc_y = np.concatenate(( df['acc_y'][0:70],df['acc_y'][130:190],df['acc_y'][230:270],df['acc_y'][330:360],df['acc_y'][370:435],df['acc_y'][490:560],df['acc_y'][700:750],df['acc_y'][780:825],df['acc_y'][840:880],df['acc_y'][920:1000],df['acc_y'][1030:1070], df['acc_y'][1130:]))\n",
    "acc_z = np.concatenate(( df['acc_z'][0:70],df['acc_z'][130:190],df['acc_z'][230:270],df['acc_z'][330:360],df['acc_z'][370:435],df['acc_z'][490:560],df['acc_z'][700:750],df['acc_z'][780:825],df['acc_z'][840:880],df['acc_z'][920:1000],df['acc_z'][1030:1070], df['acc_z'][1130:]))\n",
    "\n",
    "# Plot accelerometer data\n",
    "fig, axs = plt.subplots(2, 1, figsize=(15, 6))\n",
    "axs[0].plot( acc_x,  label='acc_x')\n",
    "axs[0].plot( acc_y,  label='acc_y')\n",
    "axs[0].plot( acc_z,  label='acc_z')\n",
    "axs[0].set_xlabel('Time [s]')\n",
    "axs[0].set_ylabel('Acceleration [m/s]')\n",
    "axs[0].set_title('Accelerometer Data')\n",
    "axs[0].grid(True)\n",
    "axs[0].grid(which='minor')\n",
    "axs[0].minorticks_on()\n",
    "axs[0].legend()\n",
    "\n",
    "mag = acc_x ** 2 + acc_y ** 2 + acc_z ** 2 \n",
    "axs[1].plot( mag, label='diff')\n",
    "axs[1].set_xlabel('Time [s]')\n",
    "axs[1].set_ylabel('Acceleration [g]')\n",
    "axs[1].set_title('Magnitude')\n",
    "axs[1].grid(True)\n",
    "axs[1].legend()\n",
    "plt.tight_layout()\n",
    "plt.show()"
   ]
  },
  {
   "cell_type": "markdown",
   "metadata": {},
   "source": [
    "## Function to minimize"
   ]
  },
  {
   "cell_type": "code",
   "execution_count": null,
   "metadata": {},
   "outputs": [],
   "source": [
    "def acc_error(theta, x, y, z):\n",
    "    return (1 - ((x + theta[0])**2 + (y + theta[1])**2 + (z + theta[2])**2))"
   ]
  },
  {
   "cell_type": "code",
   "execution_count": null,
   "metadata": {},
   "outputs": [],
   "source": [
    "# Initial parameter guess\n",
    "theta_0 = np.array([\n",
    "    0.0, # x bias\n",
    "    0.0, # y bias\n",
    "    0.0, # z bias\n",
    "])\n",
    "\n",
    "# Compute solution providing initial guess theta0, x input, and y input\n",
    "sol = least_squares(\n",
    "    acc_error, \n",
    "    theta_0, \n",
    "    args=(acc_x,acc_y,acc_z), \n",
    "    method='lm'\n",
    ")\n",
    "print(sol.x / (1.0 / (1 << 11)))\n"
   ]
  },
  {
   "cell_type": "code",
   "execution_count": null,
   "metadata": {},
   "outputs": [],
   "source": [
    "acc_x_corr = acc_x + sol.x[0] \n",
    "acc_y_corr = acc_y + sol.x[1] \n",
    "acc_z_corr = acc_z + sol.x[2] \n",
    "\n",
    "# Plot accelerometer data\n",
    "fig, axs = plt.subplots(2, 1, figsize=(15, 6))\n",
    "axs[0].plot( acc_x_corr,  label='acc_x')\n",
    "axs[0].plot( acc_y_corr,  label='acc_y')\n",
    "axs[0].plot( acc_z_corr,  label='acc_z')\n",
    "axs[0].set_xlabel('Time [s]')\n",
    "axs[0].set_ylabel('Acceleration [m/s]')\n",
    "axs[0].set_title('Accelerometer Data')\n",
    "axs[0].grid(True)\n",
    "axs[0].grid(which='minor')\n",
    "axs[0].minorticks_on()\n",
    "axs[0].legend()\n",
    "\n",
    "mag = acc_x_corr ** 2 + acc_y_corr ** 2 + acc_z_corr ** 2 \n",
    "axs[1].plot( mag, label='diff')\n",
    "axs[1].set_xlabel('Time [s]')\n",
    "axs[1].set_ylabel('Acceleration [g]')\n",
    "axs[1].set_title('Magnitude')\n",
    "axs[1].grid(True)\n",
    "axs[1].legend()\n",
    "plt.tight_layout()\n",
    "plt.show()"
   ]
  },
  {
   "cell_type": "code",
   "execution_count": null,
   "metadata": {},
   "outputs": [],
   "source": [
    "# Plot accelerometer data\n",
    "fig, axs = plt.subplots(2, 1, figsize=(12, 6))\n",
    "axs[0].plot(df['timestamp'], df['acc_x'] + sol.x[0],  label='acc_x')\n",
    "axs[0].plot(df['timestamp'], df['acc_y'] + sol.x[1],  label='acc_y')\n",
    "axs[0].plot(df['timestamp'], df['acc_z'] + sol.x[2],  label='acc_z')\n",
    "axs[0].set_xlabel('Time [s]')\n",
    "axs[0].set_ylabel('Acceleration [m/s]')\n",
    "axs[0].set_title('Accelerometer Data')\n",
    "axs[0].grid(True)\n",
    "axs[0].legend()\n",
    "\n",
    "mag = (df['acc_x'] + sol.x[0]) ** 2 + (df['acc_y'] + sol.x[1]) ** 2 + (df['acc_z'] + sol.x[2]) ** 2 \n",
    "axs[1].plot(df['timestamp'], mag, label='diff')\n",
    "axs[1].set_xlabel('Time [s]')\n",
    "axs[1].set_ylabel('Acceleration [g]')\n",
    "axs[1].set_title('Magnitude')\n",
    "axs[1].grid(True)\n",
    "axs[1].legend()\n",
    "plt.tight_layout()\n",
    "plt.show()"
   ]
  },
  {
   "cell_type": "markdown",
   "metadata": {},
   "source": [
    "# Gyroscope"
   ]
  },
  {
   "cell_type": "code",
   "execution_count": null,
   "metadata": {},
   "outputs": [],
   "source": [
    "# Compute statistics for gyro data\n",
    "gyro_stats = df[[\"gyro_x\", \"gyro_y\", \"gyro_z\"]].describe()\n",
    "print(\"\\nGyro Statistics:\")\n",
    "print(gyro_stats)"
   ]
  },
  {
   "cell_type": "code",
   "execution_count": null,
   "metadata": {},
   "outputs": [],
   "source": [
    "# Plot gyroscope data\n",
    "plt.figure(figsize=(12, 3))\n",
    "plt.plot(df['timestamp'], df['gyro_x'], label='gyro_x')\n",
    "plt.plot(df['timestamp'], df['gyro_y'], label='gyro_y')\n",
    "plt.plot(df['timestamp'], df['gyro_z'], label='gyro_z')\n",
    "plt.xlabel('Timestamp')\n",
    "plt.ylabel('Angular Velocity')\n",
    "plt.title('Gyroscope Data')\n",
    "plt.legend()\n",
    "plt.tight_layout()\n",
    "plt.show()"
   ]
  },
  {
   "cell_type": "code",
   "execution_count": null,
   "metadata": {},
   "outputs": [],
   "source": [
    "gyro_x = np.concatenate(( df['gyro_x'][0:70],df['gyro_x'][130:190],df['gyro_x'][230:270],df['gyro_x'][330:360],df['gyro_x'][370:435],df['gyro_x'][490:560],df['gyro_x'][700:750],df['gyro_x'][780:825],df['gyro_x'][840:880],df['gyro_x'][920:1000],df['gyro_x'][1030:1070], df['gyro_x'][1130:]))\n",
    "gyro_y = np.concatenate(( df['gyro_y'][0:70],df['gyro_y'][130:190],df['gyro_y'][230:270],df['gyro_y'][330:360],df['gyro_y'][370:435],df['gyro_y'][490:560],df['gyro_y'][700:750],df['gyro_y'][780:825],df['gyro_y'][840:880],df['gyro_y'][920:1000],df['gyro_y'][1030:1070], df['gyro_y'][1130:]))\n",
    "gyro_z = np.concatenate(( df['gyro_z'][0:70],df['gyro_z'][130:190],df['gyro_z'][230:270],df['gyro_z'][330:360],df['gyro_z'][370:435],df['gyro_z'][490:560],df['gyro_z'][700:750],df['gyro_z'][780:825],df['gyro_z'][840:880],df['gyro_z'][920:1000],df['gyro_z'][1030:1070], df['gyro_z'][1130:]))\n",
    "\n",
    "# Plot gyroelerometer data\n",
    "plt.figure(figsize=(12, 3))\n",
    "plt.plot( gyro_x,  label='gyro_x')\n",
    "plt.plot( gyro_y,  label='gyro_y')\n",
    "plt.plot( gyro_z,  label='gyro_z')\n",
    "plt.xlabel('Time [s]')\n",
    "plt.ylabel('[rad/s]')\n",
    "plt.title('Gyro Data')\n",
    "plt.grid(True)\n",
    "plt.grid(which='minor')\n",
    "plt.minorticks_on()\n",
    "plt.legend()\n",
    "\n",
    "plt.tight_layout()\n",
    "plt.show()"
   ]
  }
 ],
 "metadata": {
  "kernelspec": {
   "display_name": "Python 3",
   "language": "python",
   "name": "python3"
  },
  "language_info": {
   "codemirror_mode": {
    "name": "ipython",
    "version": 3
   },
   "file_extension": ".py",
   "mimetype": "text/x-python",
   "name": "python",
   "nbconvert_exporter": "python",
   "pygments_lexer": "ipython3",
   "version": "3.11.2"
  }
 },
 "nbformat": 4,
 "nbformat_minor": 2
}
