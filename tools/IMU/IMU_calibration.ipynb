{
 "cells": [
  {
   "cell_type": "markdown",
   "metadata": {},
   "source": [
    "# Import"
   ]
  },
  {
   "cell_type": "code",
   "execution_count": null,
   "metadata": {},
   "outputs": [],
   "source": [
    "import pandas as pd\n",
    "import matplotlib.pyplot as plt\n",
    "import numpy as np\n",
    "\n",
    "from scipy.optimize import least_squares"
   ]
  },
  {
   "cell_type": "markdown",
   "metadata": {},
   "source": [
    "# Read data"
   ]
  },
  {
   "cell_type": "code",
   "execution_count": null,
   "metadata": {},
   "outputs": [],
   "source": [
    "# Read the CSV file\n",
    "df = pd.read_csv(\n",
    "    \"/home/m3rc7pi/workspace/arc/log/20240324_calib_2.csv\", \n",
    "    header=None, \n",
    "    names=[\"timestamp\", \"acc_x_raw\", \"acc_y_raw\", \"acc_z_raw\", \"gyro_x_raw\", \"gyro_y_raw\", \"gyro_z_raw\"],\n",
    "    skiprows=0\n",
    ")\n",
    "\n",
    "range = (1 << 12)"
   ]
  },
  {
   "cell_type": "code",
   "execution_count": null,
   "metadata": {},
   "outputs": [],
   "source": [
    "# times 4 cause the offset is 8g, but acquisition is 2g\n",
    "acc_x_raw_offset = df['acc_x_raw'][0]\n",
    "acc_y_raw_offset = df['acc_y_raw'][0]\n",
    "acc_z_raw_offset = df['acc_z_raw'][0]\n",
    "gyro_x_raw_offset = df['gyro_x_raw'][0]\n",
    "gyro_y_raw_offset = df['gyro_y_raw'][0]\n",
    "gyro_z_raw_offset = df['gyro_z_raw'][0]\n",
    "\n",
    "df=df.iloc[1:]\n",
    "\n",
    "df['acc_x'] = df['acc_x_raw'] / range\n",
    "df['acc_y'] = df['acc_y_raw'] / range\n",
    "df['acc_z'] = df['acc_z_raw'] / range\n",
    "df['acc_x_raw_unoffset'] = df['acc_x_raw'] - acc_x_raw_offset\n",
    "df['acc_y_raw_unoffset'] = df['acc_y_raw'] - acc_y_raw_offset\n",
    "df['acc_z_raw_unoffset'] = df['acc_z_raw'] - acc_z_raw_offset\n",
    "df['acc_x_unoffset'] = df['acc_x_raw_unoffset'] / range\n",
    "df['acc_y_unoffset'] = df['acc_y_raw_unoffset'] / range\n",
    "df['acc_z_unoffset'] = df['acc_z_raw_unoffset'] / range\n",
    "\n",
    "df['gyro_x'] = df['gyro_x_raw'] / range\n",
    "df['gyro_y'] = df['gyro_y_raw'] / range\n",
    "df['gyro_z'] = df['gyro_z_raw'] / range\n",
    "df['gyro_x_raw_unoffset'] = df['gyro_x_raw'] - gyro_x_raw_offset\n",
    "df['gyro_y_raw_unoffset'] = df['gyro_y_raw'] - gyro_y_raw_offset\n",
    "df['gyro_z_raw_unoffset'] = df['gyro_z_raw'] - gyro_z_raw_offset\n",
    "df['gyro_x_unoffset'] = df['gyro_x_raw_unoffset'] / range\n",
    "df['gyro_y_unoffset'] = df['gyro_y_raw_unoffset'] / range\n",
    "df['gyro_z_unoffset'] = df['gyro_z_raw_unoffset'] / range\n"
   ]
  },
  {
   "cell_type": "code",
   "execution_count": null,
   "metadata": {},
   "outputs": [],
   "source": [
    "print(acc_x_raw_offset)\n",
    "print(acc_y_raw_offset)\n",
    "print(acc_z_raw_offset)\n",
    "print(gyro_x_raw_offset)\n",
    "print(gyro_y_raw_offset)\n",
    "print(gyro_z_raw_offset)"
   ]
  },
  {
   "cell_type": "markdown",
   "metadata": {},
   "source": [
    "# Accelerometer"
   ]
  },
  {
   "cell_type": "code",
   "execution_count": null,
   "metadata": {},
   "outputs": [],
   "source": [
    "# Compute statistics for acceleration data\n",
    "df['acc_raw_magnitude_unoffset'] = np.sqrt(df['acc_x_raw_unoffset']**2 + df['acc_y_raw_unoffset']**2 + df['acc_z_raw_unoffset']**2)\n",
    "df['acc_magnitude_unoffset'] = np.sqrt(df['acc_x_unoffset']**2 + df['acc_y_unoffset']**2 + df['acc_z_unoffset']**2)\n",
    "df['acc_raw_magnitude'] = np.sqrt(df['acc_x_raw']**2 + df['acc_y_raw']**2 + df['acc_z_raw']**2)\n",
    "df['acc_magnitude'] = np.sqrt(df['acc_x']**2 + df['acc_y']**2 + df['acc_z']**2)\n",
    "\n",
    "print(\"\\nMagnitude Statistics:\")\n",
    "print(df[['acc_magnitude', 'acc_raw_magnitude', 'acc_magnitude_unoffset', 'acc_raw_magnitude_unoffset']].describe())\n"
   ]
  },
  {
   "cell_type": "code",
   "execution_count": null,
   "metadata": {},
   "outputs": [],
   "source": [
    "fig, axs = plt.subplots(2, 1, figsize=(12, 6))\n",
    "axs[0].plot( df['acc_x_raw'], label='acc_x_raw')\n",
    "axs[0].plot( df['acc_y_raw'], label='acc_y_raw')\n",
    "axs[0].plot( df['acc_z_raw'], label='acc_z_raw')\n",
    "axs[0].set_xlabel('Sample')\n",
    "axs[0].set_title('Raw Accelerometer Data')\n",
    "axs[0].grid(True)\n",
    "axs[0].legend()\n",
    "\n",
    "axs[1].plot( df['acc_raw_magnitude'], label='diff')\n",
    "axs[1].set_xlabel('Sample')\n",
    "axs[1].set_title('Magnitude')\n",
    "axs[1].grid(True)\n",
    "axs[1].legend()\n",
    "plt.tight_layout()\n",
    "plt.show()\n",
    "\n",
    "fig, axs = plt.subplots(2, 1, figsize=(12, 6))\n",
    "axs[0].plot( df['acc_x'],  label='acc_x')\n",
    "axs[0].plot( df['acc_y'],  label='acc_y')\n",
    "axs[0].plot( df['acc_z'],  label='acc_z')\n",
    "axs[0].set_xlabel('Sample')\n",
    "axs[0].set_ylabel('Acceleration [g]')\n",
    "axs[0].set_title('Accelerometer Data')\n",
    "axs[0].grid(True)\n",
    "axs[0].legend()\n",
    "\n",
    "axs[1].plot( df['acc_magnitude'], label='diff')\n",
    "axs[1].set_xlabel('Sample')\n",
    "axs[1].set_ylabel('Acceleration [g]')\n",
    "axs[1].set_title('Magnitude')\n",
    "axs[1].grid(True)\n",
    "axs[1].legend()\n",
    "plt.tight_layout()\n",
    "plt.show()\n",
    "\n",
    "fig, axs = plt.subplots(2, 1, figsize=(12, 6))\n",
    "axs[0].plot( df['acc_x_raw_unoffset'], label='acc_x_raw_unoffset')\n",
    "axs[0].plot( df['acc_y_raw_unoffset'], label='acc_y_raw_unoffset')\n",
    "axs[0].plot( df['acc_z_raw_unoffset'], label='acc_z_raw_unoffset')\n",
    "axs[0].set_xlabel('Sample')\n",
    "axs[0].set_title('Raw unoffset Accelerometer Data')\n",
    "axs[0].grid(True)\n",
    "axs[0].legend()\n",
    "\n",
    "axs[1].plot( df['acc_raw_magnitude_unoffset'], label='diff')\n",
    "axs[1].set_xlabel('Sample')\n",
    "axs[1].set_title('unoffset Magnitude')\n",
    "axs[1].grid(True)\n",
    "axs[1].legend()\n",
    "plt.tight_layout()\n",
    "plt.show()\n",
    "\n",
    "fig, axs = plt.subplots(2, 1, figsize=(12, 6))\n",
    "axs[0].plot( df['acc_x_unoffset'],  label='acc_x_unoffset')\n",
    "axs[0].plot( df['acc_y_unoffset'],  label='acc_y_unoffset')\n",
    "axs[0].plot( df['acc_z_unoffset'],  label='acc_z_unoffset')\n",
    "axs[0].set_xlabel('Sample')\n",
    "axs[0].set_ylabel('Acceleration [g]')\n",
    "axs[0].set_title('unoffset Accelerometer Data')\n",
    "axs[0].grid(True)\n",
    "axs[0].legend()\n",
    "\n",
    "axs[1].plot( df['acc_magnitude_unoffset'], label='diff')\n",
    "axs[1].set_xlabel('Sample')\n",
    "axs[1].set_ylabel('Acceleration [g]')\n",
    "axs[1].set_title('unoffset Magnitude')\n",
    "axs[1].grid(True)\n",
    "axs[1].legend()\n",
    "plt.tight_layout()\n",
    "plt.show()"
   ]
  },
  {
   "cell_type": "markdown",
   "metadata": {},
   "source": [
    "## Function to minimize"
   ]
  },
  {
   "cell_type": "code",
   "execution_count": null,
   "metadata": {},
   "outputs": [],
   "source": [
    "def acc_error(theta, x, y, z):\n",
    "    return ((range)**2 - ((x + theta[0])**2 + (y + theta[1])**2 + (z + theta[2])**2))"
   ]
  },
  {
   "cell_type": "code",
   "execution_count": null,
   "metadata": {},
   "outputs": [],
   "source": [
    "# Initial parameter guess\n",
    "theta_0 = np.array([\n",
    "    acc_x_raw_offset, # x bias\n",
    "    acc_y_raw_offset, # y bias\n",
    "    acc_z_raw_offset, # z bias\n",
    "])\n",
    "\n",
    "# Compute solution providing initial guess theta0, x input, and y input\n",
    "sol = least_squares(\n",
    "    acc_error, \n",
    "    theta_0, \n",
    "    args=(df['acc_x_raw_unoffset'],df['acc_y_raw_unoffset'],df['acc_z_raw_unoffset']), \n",
    "    method='trf', # trf, dogbox, lm\n",
    "    loss ='soft_l1' # linear, soft_l1, huber, cauchy, arctan\n",
    ")\n",
    "\n",
    "acc_x_offset = sol.x[0]\n",
    "acc_y_offset = sol.x[1]\n",
    "acc_z_offset = sol.x[2]\n",
    "\n",
    "print(sol.x)\n",
    "print(f\"{int(acc_x_offset)}, {int(acc_y_offset)}, {int(acc_z_offset)}\")\n"
   ]
  },
  {
   "cell_type": "code",
   "execution_count": null,
   "metadata": {},
   "outputs": [],
   "source": [
    "df[\"acc_x_corr\"] = df['acc_x_unoffset'] + acc_x_offset / range\n",
    "df[\"acc_y_corr\"] = df['acc_y_unoffset'] + acc_y_offset / range\n",
    "df[\"acc_z_corr\"] = df['acc_z_unoffset'] + acc_z_offset / range\n",
    "df['acc_corr_magnitude'] = np.sqrt(df['acc_x_corr']**2 + df['acc_y_corr']**2 + df['acc_z_corr']**2)\n",
    "\n",
    "\n",
    "# Plot accelerometer data\n",
    "fig, axs = plt.subplots(2, 1, figsize=(15, 6))\n",
    "axs[0].plot( df[\"acc_x_corr\"],  label='acc_x_corr')\n",
    "axs[0].plot( df[\"acc_y_corr\"],  label='acc_y_corr')\n",
    "axs[0].plot( df[\"acc_z_corr\"],  label='acc_z_corr')\n",
    "axs[0].set_xlabel('Sample')\n",
    "axs[0].set_ylabel('Acceleration [g]')\n",
    "axs[0].set_title('Accelerometer Data')\n",
    "axs[0].grid(True)\n",
    "axs[0].grid(which='minor')\n",
    "axs[0].minorticks_on()\n",
    "axs[0].legend()\n",
    "\n",
    "axs[1].plot( df['acc_corr_magnitude'], label='diff')\n",
    "axs[0].set_xlabel('Sample')\n",
    "axs[1].set_ylabel('Acceleration [g]')\n",
    "axs[1].set_title('Magnitude')\n",
    "axs[1].grid(True)\n",
    "axs[1].legend()\n",
    "plt.tight_layout()\n",
    "plt.show()"
   ]
  },
  {
   "cell_type": "markdown",
   "metadata": {},
   "source": [
    "# Gyroscope"
   ]
  },
  {
   "cell_type": "code",
   "execution_count": null,
   "metadata": {},
   "outputs": [],
   "source": [
    "# Compute statistics for gyro data\n",
    "gyro_stats = df[[\"gyro_x_raw\", \"gyro_y_raw\", \"gyro_z_raw\", \"gyro_x\", \"gyro_y\", \"gyro_z\"]].describe()\n",
    "\n",
    "print(\"\\nGyro Statistics:\")\n",
    "print(df[[\"gyro_x_raw\", \"gyro_y_raw\", \"gyro_z_raw\"]].describe())\n",
    "print(df[[\"gyro_x\", \"gyro_y\", \"gyro_z\"]].describe())\n",
    "print(df[[\"gyro_x_raw_unoffset\", \"gyro_y_raw_unoffset\", \"gyro_z_raw_unoffset\"]].describe())\n",
    "print(df[[\"gyro_x_unoffset\", \"gyro_y_unoffset\", \"gyro_z_unoffset\"]].describe())"
   ]
  },
  {
   "cell_type": "code",
   "execution_count": null,
   "metadata": {},
   "outputs": [],
   "source": [
    "# Plot gyroscope data\n",
    "plt.figure(figsize=(12, 3))\n",
    "plt.plot(df['gyro_x'], label='gyro_x')\n",
    "plt.plot(df['gyro_y'], label='gyro_y')\n",
    "plt.plot(df['gyro_z'], label='gyro_z')\n",
    "plt.xlabel('Sample')\n",
    "plt.ylabel('Angular Velocity')\n",
    "plt.title('Gyroscope Data')\n",
    "plt.legend()\n",
    "plt.grid()\n",
    "plt.tight_layout()\n",
    "plt.show()\n",
    "\n",
    "# Plot gyroscope data\n",
    "plt.figure(figsize=(12, 3))\n",
    "plt.plot(df['gyro_x_unoffset'], label='gyro_x')\n",
    "plt.plot(df['gyro_y_unoffset'], label='gyro_y')\n",
    "plt.plot(df['gyro_z_unoffset'], label='gyro_z')\n",
    "plt.xlabel('Sample')\n",
    "plt.ylabel('Angular Velocity')\n",
    "plt.title('Unoffset Gyroscope Data')\n",
    "plt.legend()\n",
    "plt.grid()\n",
    "plt.tight_layout()\n",
    "plt.show()"
   ]
  },
  {
   "cell_type": "code",
   "execution_count": null,
   "metadata": {},
   "outputs": [],
   "source": [
    "gyro_x_offset = -df['gyro_x_raw_unoffset'].mean()\n",
    "gyro_y_offset = -df['gyro_y_raw_unoffset'].mean()\n",
    "gyro_z_offset = -df['gyro_z_raw_unoffset'].mean()\n",
    "\n",
    "print(f\"{int(gyro_x_offset)}, {int(gyro_y_offset)}, {int(gyro_z_offset)}\")"
   ]
  },
  {
   "cell_type": "code",
   "execution_count": null,
   "metadata": {},
   "outputs": [],
   "source": [
    "df['gyro_x_corr'] = df['gyro_x_raw_unoffset'] + gyro_x_offset\n",
    "df['gyro_y_corr'] = df['gyro_y_raw_unoffset'] + gyro_y_offset\n",
    "df['gyro_z_corr'] = df['gyro_z_raw_unoffset'] + gyro_z_offset\n",
    "\n",
    "# Plot gyroscope data\n",
    "plt.figure(figsize=(12, 3))\n",
    "plt.plot(df['gyro_x_corr'], label='gyro_x')\n",
    "plt.plot(df['gyro_y_corr'], label='gyro_y')\n",
    "plt.plot(df['gyro_z_corr'], label='gyro_z')\n",
    "plt.xlabel('Sample')\n",
    "plt.ylabel('Angular Velocity')\n",
    "plt.title('Gyroscope Data')\n",
    "plt.legend()\n",
    "plt.grid()\n",
    "plt.tight_layout()\n",
    "plt.show()"
   ]
  },
  {
   "cell_type": "code",
   "execution_count": null,
   "metadata": {},
   "outputs": [],
   "source": []
  },
  {
   "cell_type": "code",
   "execution_count": null,
   "metadata": {},
   "outputs": [],
   "source": []
  }
 ],
 "metadata": {
  "kernelspec": {
   "display_name": "Python 3",
   "language": "python",
   "name": "python3"
  },
  "language_info": {
   "codemirror_mode": {
    "name": "ipython",
    "version": 3
   },
   "file_extension": ".py",
   "mimetype": "text/x-python",
   "name": "python",
   "nbconvert_exporter": "python",
   "pygments_lexer": "ipython3",
   "version": "3.11.2"
  }
 },
 "nbformat": 4,
 "nbformat_minor": 2
}
