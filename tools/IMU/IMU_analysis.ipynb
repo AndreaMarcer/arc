{
 "cells": [
  {
   "cell_type": "markdown",
   "metadata": {},
   "source": [
    "# Import"
   ]
  },
  {
   "cell_type": "code",
   "execution_count": null,
   "metadata": {},
   "outputs": [],
   "source": [
    "import pandas as pd\n",
    "import matplotlib.pyplot as plt\n",
    "import numpy as np\n",
    "\n",
    "from scipy.signal import savgol_filter"
   ]
  },
  {
   "cell_type": "markdown",
   "metadata": {},
   "source": [
    "# Read data"
   ]
  },
  {
   "cell_type": "code",
   "execution_count": null,
   "metadata": {},
   "outputs": [],
   "source": [
    "# Read the CSV file\n",
    "df = pd.read_csv(\n",
    "    \"/home/m3rc7pi/workspace/arc/log/20240324_test.csv\", \n",
    "    header=None, \n",
    "    names=[\"timestamp\", \"acc_x\", \"acc_y\", \"acc_z\", \"gyro_x\", \"gyro_y\", \"gyro_z\"],\n",
    "    skiprows=0,\n",
    ")\n",
    "df['timestamp'] = df['timestamp'] / 1e6"
   ]
  },
  {
   "cell_type": "code",
   "execution_count": null,
   "metadata": {},
   "outputs": [],
   "source": [
    "\n",
    "df[\"delta_time\"] = df['timestamp'].diff() * 1000\n",
    "Fs = 1 / (df[\"delta_time\"][2:].mean()/1000)  # Sampling frequency (Hz)\n",
    "\n",
    "plt.figure(figsize=(12, 3))\n",
    "plt.plot(df['timestamp'][2:], df[\"delta_time\"][2:])  # Plot only positive frequencies\n",
    "plt.xlabel('Time (s)')\n",
    "plt.ylabel('dt [ms]')\n",
    "plt.title('Spectral Analysis of acc_x')\n",
    "plt.grid(True)\n",
    "plt.show()\n",
    "\n",
    "print(df[\"delta_time\"][2:].describe())\n",
    "print(\"\\nAverage sampling frequency:\", Fs, \"[Hz]\")"
   ]
  },
  {
   "cell_type": "markdown",
   "metadata": {},
   "source": [
    "# Accelerometer"
   ]
  },
  {
   "cell_type": "code",
   "execution_count": null,
   "metadata": {},
   "outputs": [],
   "source": [
    "def magnitude(x, y, z):\n",
    "    return np.sqrt(x**2 + y**2 + z**2)\n",
    "\n",
    "def plot_acc(x:str, y:str, z:str, figsize=(12, 6) ):\n",
    "    fig, axs = plt.subplots(2, 1, figsize=figsize)\n",
    "    axs[0].plot(df['timestamp'], df[x], label=x)\n",
    "    axs[0].plot(df['timestamp'], df[y], label=y)\n",
    "    axs[0].plot(df['timestamp'], df[z], label=z)\n",
    "    axs[0].set_xlabel('Time [s]')\n",
    "    axs[0].set_ylabel('Acceleration [m/s]')\n",
    "    axs[0].set_title('Accelerometer Data')\n",
    "    axs[0].grid(True)\n",
    "    axs[0].legend()\n",
    "\n",
    "    axs[1].plot( magnitude(df[x],df[y], df[z]))\n",
    "    axs[1].set_xlabel('Time [s]')\n",
    "    axs[1].set_title('Magnitude')\n",
    "    axs[1].grid(True)\n",
    "    plt.tight_layout()\n",
    "    plt.show()"
   ]
  },
  {
   "cell_type": "code",
   "execution_count": null,
   "metadata": {},
   "outputs": [],
   "source": [
    "df['acc_magnitude'] = magnitude(df['acc_x'], df['acc_y'], df['acc_z'])\n",
    "\n",
    "plot_acc('acc_x', 'acc_y', 'acc_z')\n",
    "print(df[[\"acc_x\", \"acc_y\", \"acc_z\", 'acc_magnitude']].describe())"
   ]
  },
  {
   "cell_type": "code",
   "execution_count": null,
   "metadata": {},
   "outputs": [],
   "source": [
    "def process_data(axis, window_length=51, polyorder=3):\n",
    "    df[axis + '_filtered'] = savgol_filter(df[axis], window_length=window_length, polyorder=polyorder)\n",
    "\n",
    "    # Compute the difference between acc_x and acc_x_filtered\n",
    "    df[axis + '_noise'] = df[axis] - df[axis + '_filtered']\n",
    "\n",
    "    # Perform FFT on acc_x\n",
    "    df[axis + '_fft'] = np.fft.fft(df[axis])\n",
    "    df[axis + '_freq']  = np.fft.fftfreq(len(df[axis]), d=1/Fs)  # Frequency bins\n",
    "\n",
    "    # Perform FFT on acc_x_filtered\n",
    "    df[axis + '_filtered_fft'] = np.fft.fft(df[axis + '_filtered'])\n",
    "    df[axis + '_filtered_freq'] = np.fft.fftfreq(len(df[axis + '_filtered']), d=1/Fs)  # Frequency bins\n",
    "\n",
    "def plot_data_filtered(axis, y_label, figsize=(12, 8)):\n",
    "    fig, axs = plt.subplots(4, 1, figsize=figsize)\n",
    "\n",
    "    axs[0].plot(df['timestamp'], df[axis], label=axis)\n",
    "    axs[0].plot(df['timestamp'], df[axis + '_filtered'], label=axis + '_filtered')\n",
    "    axs[0].set_xlabel('Time [s]')\n",
    "    axs[0].set_ylabel(y_label)\n",
    "    axs[0].set_title('Filtered ' + axis)\n",
    "    axs[0].legend()\n",
    "    axs[0].grid()\n",
    "\n",
    "    axs[1].plot(df['timestamp'], df[axis + '_noise'], label=axis + '_noise')\n",
    "    axs[1].set_xlabel('Time [s]')\n",
    "    axs[1].set_ylabel(y_label)\n",
    "    axs[1].set_title('Noise of '+ axis)\n",
    "    axs[1].set_ylim(-0.5, 0.5)\n",
    "    axs[1].legend()\n",
    "    axs[1].grid()\n",
    "\n",
    "    dim = len(df[axis + '_freq'])//2\n",
    "    axs[2].plot(df[axis + '_freq'][0:dim], np.abs(df[axis + '_fft'][0:dim]))  # Plot only positive frequencies\n",
    "    axs[2].set_xlabel('Frequency [Hz]')\n",
    "    axs[2].set_ylabel('Amplitude')\n",
    "    axs[2].set_title('Spectrum of ' + axis)\n",
    "    axs[2].grid()\n",
    "\n",
    "    filt_dim = len(df[axis + '_filtered_freq'])//2\n",
    "    axs[3].plot(df[axis + '_filtered_freq'][0:filt_dim], np.abs(df[axis + '_filtered_fft'][0:filt_dim]))\n",
    "    axs[3].set_xlabel('Frequency [Hz]')\n",
    "    axs[3].set_ylabel('Amplitude')\n",
    "    axs[3].set_title('Spectrum of ' + axis + 'Filtered')\n",
    "    axs[3].grid()\n",
    "\n",
    "    plt.tight_layout()\n",
    "    plt.show()"
   ]
  },
  {
   "cell_type": "code",
   "execution_count": null,
   "metadata": {},
   "outputs": [],
   "source": [
    "process_data('acc_x', window_length=51, polyorder=3)\n",
    "plot_data_filtered('acc_x', y_label='[m/s]')\n",
    "\n",
    "print(df[[\"acc_x\", \"acc_x_filtered\", \"acc_x_noise\"]].describe())"
   ]
  },
  {
   "cell_type": "code",
   "execution_count": null,
   "metadata": {},
   "outputs": [],
   "source": [
    "process_data('acc_y', window_length=51, polyorder=3)\n",
    "plot_data_filtered('acc_y', y_label='[m/s]')\n",
    "\n",
    "print(df[[\"acc_y\", \"acc_y_filtered\", \"acc_y_noise\"]].describe())"
   ]
  },
  {
   "cell_type": "code",
   "execution_count": null,
   "metadata": {},
   "outputs": [],
   "source": [
    "process_data('acc_z', window_length=51, polyorder=3)\n",
    "plot_data_filtered('acc_z', y_label='[m/s]')\n",
    "\n",
    "print(df[[\"acc_z\", \"acc_z_filtered\", \"acc_z_noise\"]].describe())"
   ]
  },
  {
   "cell_type": "markdown",
   "metadata": {},
   "source": [
    "# Gyroscope"
   ]
  },
  {
   "cell_type": "code",
   "execution_count": null,
   "metadata": {},
   "outputs": [],
   "source": [
    "def plot_gyro(x:str, y:str, z:str, figsize=(12, 3)):\n",
    "    plt.figure(figsize=figsize)\n",
    "    plt.plot(df['timestamp'], df[x], label=x)\n",
    "    plt.plot(df['timestamp'], df[y], label=y)\n",
    "    plt.plot(df['timestamp'], df[z], label=z)\n",
    "    plt.xlabel('Timestamp [s]')\n",
    "    plt.ylabel('Angular Velocity [rad/s]')\n",
    "    plt.title('Gyroscope Data')\n",
    "    plt.legend()\n",
    "    plt.grid()\n",
    "    plt.tight_layout()\n",
    "    plt.show()"
   ]
  },
  {
   "cell_type": "code",
   "execution_count": null,
   "metadata": {},
   "outputs": [],
   "source": [
    "plot_gyro(\"gyro_x\", \"gyro_y\", \"gyro_z\")\n",
    "print(df[[\"acc_x\", \"acc_y\", \"acc_z\", 'acc_magnitude']].describe())"
   ]
  },
  {
   "cell_type": "code",
   "execution_count": null,
   "metadata": {},
   "outputs": [],
   "source": [
    "process_data('gyro_x', window_length=51, polyorder=3)\n",
    "plot_data_filtered('gyro_x', y_label='[rad/s]')\n",
    "\n",
    "print(df[[\"gyro_x\", \"gyro_x_filtered\", \"gyro_x_noise\"]].describe())"
   ]
  },
  {
   "cell_type": "code",
   "execution_count": null,
   "metadata": {},
   "outputs": [],
   "source": [
    "process_data('gyro_y', window_length=51, polyorder=3)\n",
    "plot_data_filtered('gyro_y', y_label='[rad/s]')\n",
    "\n",
    "print(df[[\"gyro_y\", \"gyro_y_filtered\", \"gyro_y_noise\"]].describe())"
   ]
  },
  {
   "cell_type": "code",
   "execution_count": null,
   "metadata": {},
   "outputs": [],
   "source": [
    "process_data('gyro_z', window_length=51, polyorder=3)\n",
    "plot_data_filtered('gyro_z', y_label='[rad/s]')\n",
    "\n",
    "print(df[[\"gyro_z\", \"gyro_z_filtered\", \"gyro_z_noise\"]].describe())"
   ]
  }
 ],
 "metadata": {
  "kernelspec": {
   "display_name": "Python 3",
   "language": "python",
   "name": "python3"
  },
  "language_info": {
   "codemirror_mode": {
    "name": "ipython",
    "version": 3
   },
   "file_extension": ".py",
   "mimetype": "text/x-python",
   "name": "python",
   "nbconvert_exporter": "python",
   "pygments_lexer": "ipython3",
   "version": "3.11.2"
  }
 },
 "nbformat": 4,
 "nbformat_minor": 2
}
