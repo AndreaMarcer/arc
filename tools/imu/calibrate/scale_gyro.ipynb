{
 "cells": [
  {
   "cell_type": "markdown",
   "metadata": {},
   "source": [
    "# Import"
   ]
  },
  {
   "cell_type": "code",
   "execution_count": null,
   "metadata": {},
   "outputs": [],
   "source": [
    "import pandas as pd\n",
    "import matplotlib.pyplot as plt\n",
    "import numpy as np\n",
    "\n",
    "from scipy import stats"
   ]
  },
  {
   "cell_type": "code",
   "execution_count": null,
   "metadata": {},
   "outputs": [],
   "source": [
    "num_data = 100\n",
    "\n",
    "def plot_gyro(x, y, figsize=(12, 6) ):\n",
    "    plt.figure(figsize=figsize)\n",
    "    plt.plot(x)\n",
    "    plt.grid(True)\n",
    "    plt.tight_layout()\n",
    "    plt.show()"
   ]
  },
  {
   "cell_type": "markdown",
   "metadata": {},
   "source": [
    "# SCALE 2000"
   ]
  },
  {
   "cell_type": "code",
   "execution_count": null,
   "metadata": {},
   "outputs": [],
   "source": [
    "# Read the CSV file\n",
    "df_2000 = pd.read_csv(\n",
    "    \"/home/m3rc7pi/workspace/arc/log/calib/20240403_scale_2000.csv\", \n",
    "    header=None, \n",
    "    names=[\"scale\", \"offset\", \"gyro_x\", \"gyro_y\", \"gyro_z\" ],\n",
    ")\n",
    "scale_2000 = (1 << 11)"
   ]
  },
  {
   "cell_type": "code",
   "execution_count": null,
   "metadata": {},
   "outputs": [],
   "source": [
    "plot_gyro(df_2000[\"gyro_z\"],df_2000[\"offset\"] )"
   ]
  },
  {
   "cell_type": "code",
   "execution_count": null,
   "metadata": {},
   "outputs": [],
   "source": [
    "plt.figure(figsize=(12,12))\n",
    "\n",
    "results_2g = []\n",
    "for i in range(0,16):\n",
    "    y = np.array(df_2000[\"gyro_y\"][i*num_data:((i+1)*num_data)-1] )\n",
    "    x = np.array(df_2000[\"offset\"][i*num_data:((i+1)*num_data)-1])\n",
    "    res = stats.linregress(x, y)\n",
    "    # plt.plot(x, y)\n",
    "    plt.plot(x, res.intercept + res.slope*x)\n",
    "    \n",
    "    print(res)\n",
    "    results_2g.append({\"slope\":res.slope, \"intercept\":res.intercept})\n",
    "    \n",
    "plt.ylabel('Acceleration [m/s]')\n",
    "plt.title('Accelerometer Data')\n",
    "plt.grid(True)\n",
    "plt.tight_layout()\n",
    "plt.show()"
   ]
  },
  {
   "cell_type": "markdown",
   "metadata": {},
   "source": [
    "# SCALE 4g\n"
   ]
  },
  {
   "cell_type": "code",
   "execution_count": null,
   "metadata": {},
   "outputs": [],
   "source": [
    "# Read the CSV file\n",
    "df_4g = pd.read_csv(\n",
    "    \"/home/m3rc7pi/workspace/arc/log/calib/20240402_scale_4g.csv\", \n",
    "    header=None, \n",
    "    names=[\"scale\", \"offset\", \"acc\"],\n",
    ")\n",
    "scale_4g = (1 << 13)"
   ]
  },
  {
   "cell_type": "code",
   "execution_count": null,
   "metadata": {},
   "outputs": [],
   "source": [
    "plot_acc(df_4g[\"acc\"],df_4g[\"offset\"] )"
   ]
  },
  {
   "cell_type": "code",
   "execution_count": null,
   "metadata": {},
   "outputs": [],
   "source": [
    "plt.figure(figsize=(12,12))\n",
    "\n",
    "results_4g = []\n",
    "for i in range(0,16):\n",
    "    y = np.array(df_4g[\"acc\"][i*num_data:((i+1)*num_data)-1] / scale_4g)\n",
    "    x = np.array(df_4g[\"offset\"][i*num_data:((i+1)*num_data)-1] / scale_4g)\n",
    "    res = stats.linregress(x, y)\n",
    "    # plt.plot(x, y)\n",
    "    plt.plot(x, res.intercept + res.slope*x)\n",
    "    \n",
    "    print(res)\n",
    "    results_4g.append({\"slope\":res.slope, \"intercept\":res.intercept})\n",
    "    \n",
    "plt.ylabel('Acceleration [m/s]')\n",
    "plt.title('Accelerometer Data')\n",
    "plt.grid(True)\n",
    "plt.tight_layout()\n",
    "plt.show()"
   ]
  },
  {
   "cell_type": "markdown",
   "metadata": {},
   "source": [
    "# SCALE 8g"
   ]
  },
  {
   "cell_type": "code",
   "execution_count": null,
   "metadata": {},
   "outputs": [],
   "source": [
    "# Read the CSV file\n",
    "df_8g = pd.read_csv(\n",
    "    \"/home/m3rc7pi/workspace/arc/log/calib/20240402_scale_8g.csv\", \n",
    "    header=None, \n",
    "    names=[\"scale\", \"offset\", \"acc\"],\n",
    ")\n",
    "scale_8g = (1 << 12)"
   ]
  },
  {
   "cell_type": "code",
   "execution_count": null,
   "metadata": {},
   "outputs": [],
   "source": [
    "plot_acc(df_8g[\"acc\"],df_8g[\"offset\"] )"
   ]
  },
  {
   "cell_type": "code",
   "execution_count": null,
   "metadata": {},
   "outputs": [],
   "source": [
    "plt.figure(figsize=(12,12))\n",
    "\n",
    "results_8g = []\n",
    "for i in range(0,16):\n",
    "    y = np.array(df_8g[\"acc\"][i*num_data:((i+1)*num_data)-1] / scale_8g)\n",
    "    x = np.array(df_8g[\"offset\"][i*num_data:((i+1)*num_data)-1] / scale_8g)\n",
    "    res = stats.linregress(x, y)\n",
    "    # plt.plot(x, y)\n",
    "    plt.plot(x, res.intercept + res.slope*x)\n",
    "    \n",
    "    print(res)\n",
    "    results_8g.append({\"slope\":res.slope, \"intercept\":res.intercept})\n",
    "    \n",
    "plt.ylabel('Acceleration [m/s]')\n",
    "plt.title('Accelerometer Data')\n",
    "plt.grid(True)\n",
    "plt.tight_layout()\n",
    "plt.show()"
   ]
  },
  {
   "cell_type": "markdown",
   "metadata": {},
   "source": [
    "# SCALE 16g"
   ]
  },
  {
   "cell_type": "code",
   "execution_count": null,
   "metadata": {},
   "outputs": [],
   "source": [
    "# Read the CSV file\n",
    "df_16g = pd.read_csv(\n",
    "    \"/home/m3rc7pi/workspace/arc/log/calib/20240402_scale_16g.csv\", \n",
    "    header=None, \n",
    "    names=[\"scale\", \"offset\", \"acc\"],\n",
    ")\n",
    "scale_16g = (1 << 11)"
   ]
  },
  {
   "cell_type": "code",
   "execution_count": null,
   "metadata": {},
   "outputs": [],
   "source": [
    "plot_acc(df_16g[\"acc\"],df_16g[\"offset\"] )"
   ]
  },
  {
   "cell_type": "code",
   "execution_count": null,
   "metadata": {},
   "outputs": [],
   "source": [
    "plt.figure(figsize=(12,12))\n",
    "\n",
    "results_16g = []\n",
    "for i in range(0,16):\n",
    "    y = np.array(df_16g[\"acc\"][i*num_data:((i+1)*num_data)-1] / scale_16g)\n",
    "    x = np.array(df_16g[\"offset\"][i*num_data:((i+1)*num_data)-1]/ scale_16g)\n",
    "    res = stats.linregress(x, y)\n",
    "    # plt.plot(x, y)\n",
    "    plt.plot(x, res.intercept + res.slope*x)\n",
    "    \n",
    "    print(res)\n",
    "    results_16g.append({\"slope\":res.slope, \"intercept\":res.intercept})\n",
    "    \n",
    "plt.ylabel('Acceleration [m/s]')\n",
    "plt.title('Accelerometer Data')\n",
    "plt.grid(True)\n",
    "plt.tight_layout()\n",
    "plt.show()"
   ]
  },
  {
   "cell_type": "markdown",
   "metadata": {},
   "source": [
    "# Results"
   ]
  },
  {
   "cell_type": "code",
   "execution_count": null,
   "metadata": {},
   "outputs": [],
   "source": [
    "print(\"2G =\", np.diff([res[\"slope\"] / 8 for res in results_2g]).mean())\n",
    "diff_4g = np.diff([res[\"slope\"] / 4 for res in results_4g])\n",
    "print(\"4G =\", diff_4g.mean())\n",
    "diff_8g = np.diff([res[\"slope\"] / 2 for res in results_8g])\n",
    "print(\"8G =\", diff_8g.mean())\n",
    "diff_16g = np.diff([res[\"slope\"] / 1 for res in results_16g])\n",
    "print(\"16G =\", diff_16g.mean())\n",
    "print(\"TOT =\", (diff_4g.mean() + diff_8g.mean() + diff_16g.mean())/3)"
   ]
  },
  {
   "cell_type": "code",
   "execution_count": null,
   "metadata": {},
   "outputs": [],
   "source": [
    "1/0.015602523191094599\n"
   ]
  }
 ],
 "metadata": {
  "kernelspec": {
   "display_name": "Python 3",
   "language": "python",
   "name": "python3"
  },
  "language_info": {
   "codemirror_mode": {
    "name": "ipython",
    "version": 3
   },
   "file_extension": ".py",
   "mimetype": "text/x-python",
   "name": "python",
   "nbconvert_exporter": "python",
   "pygments_lexer": "ipython3",
   "version": "3.11.2"
  }
 },
 "nbformat": 4,
 "nbformat_minor": 2
}
