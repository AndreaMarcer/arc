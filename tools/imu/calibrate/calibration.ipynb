{
 "cells": [
  {
   "cell_type": "markdown",
   "metadata": {},
   "source": [
    "# Import"
   ]
  },
  {
   "cell_type": "code",
   "execution_count": null,
   "metadata": {},
   "outputs": [],
   "source": [
    "import pandas as pd\n",
    "import matplotlib.pyplot as plt\n",
    "import numpy as np\n",
    "\n",
    "from scipy.optimize import least_squares"
   ]
  },
  {
   "cell_type": "markdown",
   "metadata": {},
   "source": [
    "# Read data"
   ]
  },
  {
   "cell_type": "code",
   "execution_count": null,
   "metadata": {},
   "outputs": [],
   "source": [
    "# Read the CSV file\n",
    "df = pd.read_csv(\n",
    "    \"/home/m3rc7pi/workspace/arc/log/calib/20240404_calib_full.csv\", \n",
    "    header=None, \n",
    "    names=[\"timestamp\", \"acc_x_raw\", \"acc_y_raw\", \"acc_z_raw\", \"gyro_x_raw\", \"gyro_y_raw\", \"gyro_z_raw\"],\n",
    "\n",
    ")\n",
    "\n",
    "range = (1 << 12)\n",
    "scale_factor = 64"
   ]
  },
  {
   "cell_type": "code",
   "execution_count": null,
   "metadata": {},
   "outputs": [],
   "source": [
    "# times 4 cause the offset is 8g, but acquisition is 2g\n",
    "acc_x_raw_orig_offset = df['acc_x_raw'][0]\n",
    "acc_y_raw_orig_offset = df['acc_y_raw'][0]\n",
    "acc_z_raw_orig_offset = df['acc_z_raw'][0]\n",
    "gyro_x_raw_orig_offset = df['gyro_x_raw'][0]\n",
    "gyro_y_raw_orig_offset = df['gyro_y_raw'][0]\n",
    "gyro_z_raw_orig_offset = df['gyro_z_raw'][0]\n",
    "\n",
    "print(f\"Acc Offset: {acc_x_raw_orig_offset}, {acc_y_raw_orig_offset}, {acc_z_raw_orig_offset}\")\n",
    "print(f\"Gyro Offset: {gyro_x_raw_orig_offset}, {gyro_y_raw_orig_offset}, {gyro_z_raw_orig_offset}\")\n",
    "\n",
    "acc_x_raw_orig_scale = 2 * (1 + (df['acc_x_raw'][1] + 8) / scale_factor)\n",
    "acc_y_raw_orig_scale = 2 * (1 + (df['acc_y_raw'][1] + 8) / scale_factor)\n",
    "acc_z_raw_orig_scale = 2 * (1 + (df['acc_z_raw'][1] + 8) / scale_factor)\n",
    "gyro_x_raw_orig_scale = (1 + (df['gyro_x_raw'][1] + 8) / scale_factor)\n",
    "gyro_y_raw_orig_scale = (1 + (df['gyro_y_raw'][1] + 8) / scale_factor)\n",
    "gyro_z_raw_orig_scale = (1 + (df['gyro_z_raw'][1] + 8) / scale_factor)\n",
    "\n",
    "print(f\"Acc Scale: {acc_x_raw_orig_scale}, {acc_y_raw_orig_scale}, {acc_z_raw_orig_scale}\")\n",
    "print(f\"Gyro Scale: {gyro_x_raw_orig_scale}, {gyro_y_raw_orig_scale}, {gyro_z_raw_orig_scale}\")\n",
    "\n",
    "df=df.iloc[2:]\n",
    "\n",
    "df['acc_x'] = df['acc_x_raw'] / range\n",
    "df['acc_y'] = df['acc_y_raw'] / range\n",
    "df['acc_z'] = df['acc_z_raw'] / range\n",
    "df['acc_x_raw_unoffset'] = df['acc_x_raw'].astype(float) / acc_x_raw_orig_scale - acc_x_raw_orig_offset\n",
    "df['acc_y_raw_unoffset'] = df['acc_y_raw'].astype(float) / acc_y_raw_orig_scale - acc_y_raw_orig_offset\n",
    "df['acc_z_raw_unoffset'] = df['acc_z_raw'].astype(float) / acc_z_raw_orig_scale - acc_z_raw_orig_offset\n",
    "df['acc_x_unoffset'] = df['acc_x_raw_unoffset'] / range\n",
    "df['acc_y_unoffset'] = df['acc_y_raw_unoffset'] / range\n",
    "df['acc_z_unoffset'] = df['acc_z_raw_unoffset'] / range\n",
    "\n",
    "df['gyro_x'] = df['gyro_x_raw'] / range\n",
    "df['gyro_y'] = df['gyro_y_raw'] / range\n",
    "df['gyro_z'] = df['gyro_z_raw'] / range\n",
    "df['gyro_x_raw_unoffset'] = df['gyro_x_raw'] / gyro_x_raw_orig_scale - gyro_x_raw_orig_offset\n",
    "df['gyro_y_raw_unoffset'] = df['gyro_y_raw'] / gyro_y_raw_orig_scale - gyro_y_raw_orig_offset\n",
    "df['gyro_z_raw_unoffset'] = df['gyro_z_raw'] / gyro_z_raw_orig_scale - gyro_z_raw_orig_offset\n",
    "df['gyro_x_unoffset'] = df['gyro_x_raw_unoffset'] / range\n",
    "df['gyro_y_unoffset'] = df['gyro_y_raw_unoffset'] / range\n",
    "df['gyro_z_unoffset'] = df['gyro_z_raw_unoffset'] / range"
   ]
  },
  {
   "cell_type": "markdown",
   "metadata": {},
   "source": [
    "# Accelerometer"
   ]
  },
  {
   "cell_type": "code",
   "execution_count": null,
   "metadata": {},
   "outputs": [],
   "source": [
    "def magnitude(x, y, z):\n",
    "    return np.sqrt(x**2 + y**2 + z**2)\n",
    "\n",
    "def plot_acc(x:str, y:str, z:str, title:str, figsize=(12, 6) ):\n",
    "    fig, axs = plt.subplots(2, 1, figsize=figsize)\n",
    "    axs[0].plot( df[x], label=x)\n",
    "    axs[0].plot( df[y], label=y)\n",
    "    axs[0].plot( df[z], label=z)\n",
    "    axs[0].set_xlabel('Sample')\n",
    "    axs[0].set_title(title)\n",
    "    axs[0].grid(True)\n",
    "    axs[0].legend()\n",
    "\n",
    "    axs[1].plot( magnitude(df[x],df[y], df[z]))\n",
    "    axs[1].set_xlabel('Sample')\n",
    "    axs[1].set_title('Magnitude')\n",
    "    axs[1].grid(True)\n",
    "    plt.tight_layout()\n",
    "    plt.show()"
   ]
  },
  {
   "cell_type": "code",
   "execution_count": null,
   "metadata": {},
   "outputs": [],
   "source": [
    "plot_acc('acc_x','acc_y','acc_z','Accelerometer Data')\n",
    "magnitude(df['acc_x'], df['acc_y'], df['acc_z']).describe()"
   ]
  },
  {
   "cell_type": "code",
   "execution_count": null,
   "metadata": {},
   "outputs": [],
   "source": [
    "plot_acc('acc_x_unoffset','acc_y_unoffset','acc_z_unoffset','Accelerometer Data')\n",
    "magnitude(df['acc_x_unoffset'], df['acc_y_unoffset'], df['acc_z_unoffset']).describe()"
   ]
  },
  {
   "cell_type": "markdown",
   "metadata": {},
   "source": [
    "## Optimize"
   ]
  },
  {
   "cell_type": "code",
   "execution_count": null,
   "metadata": {},
   "outputs": [],
   "source": [
    "def acc_error(theta, x, y, z):\n",
    "    return ((range)**2 - ((2 * ( 1 + (theta[3] + 8) / scale_factor) *(x + theta[0]))**2 + (2 * ( 1 + (theta[4] + 8) / scale_factor) *(y + theta[1]))**2 + (2 * ( 1 + (theta[5] + 8) / scale_factor) *(z + theta[2]))**2))\n",
    "\n",
    "# Initial parameter guess\n",
    "x_0 = np.array([\n",
    "    acc_x_raw_orig_offset,\n",
    "    acc_y_raw_orig_offset,\n",
    "    acc_z_raw_orig_offset,\n",
    "    acc_x_raw_orig_scale,\n",
    "    acc_y_raw_orig_scale,\n",
    "    acc_z_raw_orig_scale,\n",
    "])\n",
    "\n",
    "bounds = np.array([\n",
    "    [-np.inf, -np.inf, -np.inf, -8, -8, -8],\n",
    "    [np.inf, np.inf, np.inf, 8, 8, 8]\n",
    "])\n",
    "\n",
    "# Compute solution providing initial guess theta0, x input, and y input\n",
    "sol = least_squares(\n",
    "    fun = acc_error, \n",
    "    x0 = x_0, \n",
    "    bounds=bounds, \n",
    "    args=(df['acc_x_raw_unoffset'],df['acc_y_raw_unoffset'],df['acc_z_raw_unoffset']), \n",
    "    method='trf', # trf, dogbox, lm\n",
    "    loss='linear', # linear, soft_l1, huber, cauchy, arctan\n",
    "    verbose = 2,\n",
    ")\n",
    "\n",
    "acc_x_raw_offset = sol.x[0]\n",
    "acc_y_raw_offset = sol.x[1]\n",
    "acc_z_raw_offset = sol.x[2]\n",
    "acc_x_raw_scale = 2 * (1 + (sol.x[3] + 8) / scale_factor)\n",
    "acc_y_raw_scale = 2 * (1 + (sol.x[4] + 8) / scale_factor)\n",
    "acc_z_raw_scale = 2 * (1 + (sol.x[5] + 8) / scale_factor)\n",
    "\n",
    "df[\"acc_x_raw_corr\"] = (df['acc_x_raw_unoffset'] + acc_x_raw_offset) * acc_x_raw_scale\n",
    "df[\"acc_y_raw_corr\"] = (df['acc_y_raw_unoffset'] + acc_y_raw_offset) * acc_y_raw_scale\n",
    "df[\"acc_z_raw_corr\"] = (df['acc_z_raw_unoffset'] + acc_z_raw_offset) * acc_z_raw_scale\n",
    "\n",
    "df[\"acc_x_corr\"] = df[\"acc_x_raw_corr\"] / range\n",
    "df[\"acc_y_corr\"] = df[\"acc_y_raw_corr\"] / range\n",
    "df[\"acc_z_corr\"] = df[\"acc_z_raw_corr\"] / range\n",
    "\n",
    "plot_acc('acc_x_corr','acc_y_corr','acc_z_corr','Corrected Accelerometer Data')\n",
    "\n",
    "print(f\"NEW OFFSET: {int(acc_x_raw_offset)}, {int(acc_y_raw_offset)}, {int(acc_z_raw_offset)}\")\n",
    "print(f\"NEW SCALE: {int(sol.x[3])}, {int(sol.x[4])}, {int(sol.x[5])}\")\n"
   ]
  },
  {
   "cell_type": "markdown",
   "metadata": {},
   "source": [
    "# Gyroscope"
   ]
  },
  {
   "cell_type": "code",
   "execution_count": null,
   "metadata": {},
   "outputs": [],
   "source": [
    "def plot_gyro(x:str, y:str, z:str, title:str, figsize=(12, 3) ):\n",
    "    plt.figure(figsize=figsize)\n",
    "    plt.plot(df[x], label=x)\n",
    "    plt.plot(df[y], label=y)\n",
    "    plt.plot(df[z], label=z)\n",
    "    plt.xlabel('Sample')\n",
    "    plt.ylabel('Angular Velocity')\n",
    "    plt.title(title)\n",
    "    plt.legend()\n",
    "    plt.grid()\n",
    "    plt.tight_layout()\n",
    "    plt.show()"
   ]
  },
  {
   "cell_type": "code",
   "execution_count": null,
   "metadata": {},
   "outputs": [],
   "source": [
    "plot_gyro(\"gyro_x\", \"gyro_y\", \"gyro_z\", \"Gyro Data\")"
   ]
  },
  {
   "cell_type": "code",
   "execution_count": null,
   "metadata": {},
   "outputs": [],
   "source": [
    "gyro_x_raw_offset = -df['gyro_x_raw_unoffset'].mean()\n",
    "gyro_y_raw_offset = -df['gyro_y_raw_unoffset'].mean()\n",
    "gyro_z_raw_offset = -df['gyro_z_raw_unoffset'].mean()\n",
    "\n",
    "df['gyro_x_corr'] = (df['gyro_x_raw_unoffset'] + gyro_x_raw_offset) * gyro_x_raw_orig_scale\n",
    "df['gyro_y_corr'] = (df['gyro_y_raw_unoffset'] + gyro_y_raw_offset) * gyro_y_raw_orig_scale\n",
    "df['gyro_z_corr'] = (df['gyro_z_raw_unoffset'] + gyro_z_raw_offset) * gyro_z_raw_orig_scale\n",
    "\n",
    "plot_gyro(\"gyro_x_corr\", \"gyro_y_corr\", \"gyro_z_corr\", \"Corrected Gyro Data\")\n",
    "\n",
    "print(f\"NEW OFFSET: {int(gyro_x_raw_offset)}, {int(gyro_y_raw_offset)}, {int(gyro_z_raw_offset)}\")"
   ]
  }
 ],
 "metadata": {
  "kernelspec": {
   "display_name": "Python 3",
   "language": "python",
   "name": "python3"
  },
  "language_info": {
   "codemirror_mode": {
    "name": "ipython",
    "version": 3
   },
   "file_extension": ".py",
   "mimetype": "text/x-python",
   "name": "python",
   "nbconvert_exporter": "python",
   "pygments_lexer": "ipython3",
   "version": "3.11.2"
  }
 },
 "nbformat": 4,
 "nbformat_minor": 2
}
